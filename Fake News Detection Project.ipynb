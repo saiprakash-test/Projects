{
 "cells": [
  {
   "cell_type": "code",
   "execution_count": 1,
   "metadata": {},
   "outputs": [],
   "source": [
    "# Importing the basic libraries\n",
    "import numpy as np\n",
    "import pandas as pd\n",
    "import seaborn as sns\n",
    "import matplotlib.pyplot as plt\n",
    "\n",
    "import warnings\n",
    "warnings.filterwarnings('ignore')"
   ]
  },
  {
   "cell_type": "code",
   "execution_count": 2,
   "metadata": {},
   "outputs": [
    {
     "data": {
      "text/html": [
       "<div>\n",
       "<style scoped>\n",
       "    .dataframe tbody tr th:only-of-type {\n",
       "        vertical-align: middle;\n",
       "    }\n",
       "\n",
       "    .dataframe tbody tr th {\n",
       "        vertical-align: top;\n",
       "    }\n",
       "\n",
       "    .dataframe thead th {\n",
       "        text-align: right;\n",
       "    }\n",
       "</style>\n",
       "<table border=\"1\" class=\"dataframe\">\n",
       "  <thead>\n",
       "    <tr style=\"text-align: right;\">\n",
       "      <th></th>\n",
       "      <th>Unnamed: 0</th>\n",
       "      <th>id</th>\n",
       "      <th>headline</th>\n",
       "      <th>written_by</th>\n",
       "      <th>news</th>\n",
       "      <th>label</th>\n",
       "    </tr>\n",
       "  </thead>\n",
       "  <tbody>\n",
       "    <tr>\n",
       "      <th>0</th>\n",
       "      <td>0</td>\n",
       "      <td>9653</td>\n",
       "      <td>Ethics Questions Dogged Agriculture Nominee as...</td>\n",
       "      <td>Eric Lipton and Steve Eder</td>\n",
       "      <td>WASHINGTON  —   In Sonny Perdue’s telling, Geo...</td>\n",
       "      <td>0</td>\n",
       "    </tr>\n",
       "    <tr>\n",
       "      <th>1</th>\n",
       "      <td>1</td>\n",
       "      <td>10041</td>\n",
       "      <td>U.S. Must Dig Deep to Stop Argentina’s Lionel ...</td>\n",
       "      <td>David Waldstein</td>\n",
       "      <td>HOUSTON  —   Venezuela had a plan. It was a ta...</td>\n",
       "      <td>0</td>\n",
       "    </tr>\n",
       "    <tr>\n",
       "      <th>2</th>\n",
       "      <td>2</td>\n",
       "      <td>19113</td>\n",
       "      <td>Cotton to House: ’Do Not Walk the Plank and Vo...</td>\n",
       "      <td>Pam Key</td>\n",
       "      <td>Sunday on ABC’s “This Week,” while discussing ...</td>\n",
       "      <td>0</td>\n",
       "    </tr>\n",
       "    <tr>\n",
       "      <th>3</th>\n",
       "      <td>3</td>\n",
       "      <td>6868</td>\n",
       "      <td>Paul LePage, Besieged Maine Governor, Sends Co...</td>\n",
       "      <td>Jess Bidgood</td>\n",
       "      <td>AUGUSTA, Me.  —   The beleaguered Republican g...</td>\n",
       "      <td>0</td>\n",
       "    </tr>\n",
       "    <tr>\n",
       "      <th>4</th>\n",
       "      <td>4</td>\n",
       "      <td>7596</td>\n",
       "      <td>A Digital 9/11 If Trump Wins</td>\n",
       "      <td>Finian Cunningham</td>\n",
       "      <td>Finian Cunningham has written extensively on...</td>\n",
       "      <td>1</td>\n",
       "    </tr>\n",
       "  </tbody>\n",
       "</table>\n",
       "</div>"
      ],
      "text/plain": [
       "   Unnamed: 0     id                                           headline  \\\n",
       "0           0   9653  Ethics Questions Dogged Agriculture Nominee as...   \n",
       "1           1  10041  U.S. Must Dig Deep to Stop Argentina’s Lionel ...   \n",
       "2           2  19113  Cotton to House: ’Do Not Walk the Plank and Vo...   \n",
       "3           3   6868  Paul LePage, Besieged Maine Governor, Sends Co...   \n",
       "4           4   7596                       A Digital 9/11 If Trump Wins   \n",
       "\n",
       "                   written_by  \\\n",
       "0  Eric Lipton and Steve Eder   \n",
       "1             David Waldstein   \n",
       "2                     Pam Key   \n",
       "3                Jess Bidgood   \n",
       "4           Finian Cunningham   \n",
       "\n",
       "                                                news  label  \n",
       "0  WASHINGTON  —   In Sonny Perdue’s telling, Geo...      0  \n",
       "1  HOUSTON  —   Venezuela had a plan. It was a ta...      0  \n",
       "2  Sunday on ABC’s “This Week,” while discussing ...      0  \n",
       "3  AUGUSTA, Me.  —   The beleaguered Republican g...      0  \n",
       "4    Finian Cunningham has written extensively on...      1  "
      ]
     },
     "execution_count": 2,
     "metadata": {},
     "output_type": "execute_result"
    }
   ],
   "source": [
    "# Loading the dataset\n",
    "df=pd.read_csv('train_news.csv')\n",
    "df.head()"
   ]
  },
  {
   "cell_type": "markdown",
   "metadata": {},
   "source": [
    "# Data Description:\n",
    "\n",
    "There are 6 columns in the dataset provided to you. The description of each of the column is given below:\n",
    "\n",
    "“id”: Unique id of each news article\n",
    "\n",
    "“headline”: It is the title of the news.\n",
    "\n",
    "“news”: It contains the full text of the news article\n",
    "\n",
    "“Unnamed:0”: It is a serial number\n",
    "\n",
    "“written_by”: It represents the author of the news article\n",
    "\n",
    "“label”: It tells whether the news is fake (1) or not fake (0).\n"
   ]
  },
  {
   "cell_type": "code",
   "execution_count": 3,
   "metadata": {},
   "outputs": [],
   "source": [
    "# Dropping the Unnamed: 0 column which doesn't add any value to the dataset\n",
    "df.drop(columns=['Unnamed: 0'],axis=1,inplace=True)"
   ]
  },
  {
   "cell_type": "code",
   "execution_count": 4,
   "metadata": {},
   "outputs": [
    {
     "name": "stdout",
     "output_type": "stream",
     "text": [
      "Shape of the dataset: (20800, 5)\n"
     ]
    }
   ],
   "source": [
    "# Looking for shape of the dataset\n",
    "print('Shape of the dataset:',df.shape)"
   ]
  },
  {
   "cell_type": "code",
   "execution_count": 5,
   "metadata": {},
   "outputs": [
    {
     "name": "stdout",
     "output_type": "stream",
     "text": [
      "<class 'pandas.core.frame.DataFrame'>\n",
      "RangeIndex: 20800 entries, 0 to 20799\n",
      "Data columns (total 5 columns):\n",
      " #   Column      Non-Null Count  Dtype \n",
      "---  ------      --------------  ----- \n",
      " 0   id          20800 non-null  int64 \n",
      " 1   headline    20242 non-null  object\n",
      " 2   written_by  18843 non-null  object\n",
      " 3   news        20761 non-null  object\n",
      " 4   label       20800 non-null  int64 \n",
      "dtypes: int64(2), object(3)\n",
      "memory usage: 812.6+ KB\n"
     ]
    }
   ],
   "source": [
    "# Looking for the information of data\n",
    "df.info()"
   ]
  },
  {
   "cell_type": "code",
   "execution_count": 6,
   "metadata": {},
   "outputs": [
    {
     "data": {
      "text/plain": [
       "id               0\n",
       "headline       558\n",
       "written_by    1957\n",
       "news            39\n",
       "label            0\n",
       "dtype: int64"
      ]
     },
     "execution_count": 6,
     "metadata": {},
     "output_type": "execute_result"
    }
   ],
   "source": [
    "# Checking for null values in the dataset\n",
    "df.isnull().sum()"
   ]
  },
  {
   "cell_type": "markdown",
   "metadata": {},
   "source": [
    "###### Observations: There are some missing the null values in the dataset"
   ]
  },
  {
   "cell_type": "code",
   "execution_count": 7,
   "metadata": {},
   "outputs": [],
   "source": [
    "# Dropping the null values\n",
    "df = df.dropna()"
   ]
  },
  {
   "cell_type": "code",
   "execution_count": 8,
   "metadata": {},
   "outputs": [],
   "source": [
    "df.reset_index(inplace=True)"
   ]
  },
  {
   "cell_type": "code",
   "execution_count": 9,
   "metadata": {},
   "outputs": [
    {
     "data": {
      "text/html": [
       "<div>\n",
       "<style scoped>\n",
       "    .dataframe tbody tr th:only-of-type {\n",
       "        vertical-align: middle;\n",
       "    }\n",
       "\n",
       "    .dataframe tbody tr th {\n",
       "        vertical-align: top;\n",
       "    }\n",
       "\n",
       "    .dataframe thead th {\n",
       "        text-align: right;\n",
       "    }\n",
       "</style>\n",
       "<table border=\"1\" class=\"dataframe\">\n",
       "  <thead>\n",
       "    <tr style=\"text-align: right;\">\n",
       "      <th></th>\n",
       "      <th>index</th>\n",
       "      <th>id</th>\n",
       "      <th>headline</th>\n",
       "      <th>written_by</th>\n",
       "      <th>news</th>\n",
       "      <th>label</th>\n",
       "    </tr>\n",
       "  </thead>\n",
       "  <tbody>\n",
       "    <tr>\n",
       "      <th>0</th>\n",
       "      <td>0</td>\n",
       "      <td>9653</td>\n",
       "      <td>Ethics Questions Dogged Agriculture Nominee as...</td>\n",
       "      <td>Eric Lipton and Steve Eder</td>\n",
       "      <td>WASHINGTON  —   In Sonny Perdue’s telling, Geo...</td>\n",
       "      <td>0</td>\n",
       "    </tr>\n",
       "    <tr>\n",
       "      <th>1</th>\n",
       "      <td>1</td>\n",
       "      <td>10041</td>\n",
       "      <td>U.S. Must Dig Deep to Stop Argentina’s Lionel ...</td>\n",
       "      <td>David Waldstein</td>\n",
       "      <td>HOUSTON  —   Venezuela had a plan. It was a ta...</td>\n",
       "      <td>0</td>\n",
       "    </tr>\n",
       "    <tr>\n",
       "      <th>2</th>\n",
       "      <td>2</td>\n",
       "      <td>19113</td>\n",
       "      <td>Cotton to House: ’Do Not Walk the Plank and Vo...</td>\n",
       "      <td>Pam Key</td>\n",
       "      <td>Sunday on ABC’s “This Week,” while discussing ...</td>\n",
       "      <td>0</td>\n",
       "    </tr>\n",
       "    <tr>\n",
       "      <th>3</th>\n",
       "      <td>3</td>\n",
       "      <td>6868</td>\n",
       "      <td>Paul LePage, Besieged Maine Governor, Sends Co...</td>\n",
       "      <td>Jess Bidgood</td>\n",
       "      <td>AUGUSTA, Me.  —   The beleaguered Republican g...</td>\n",
       "      <td>0</td>\n",
       "    </tr>\n",
       "    <tr>\n",
       "      <th>4</th>\n",
       "      <td>4</td>\n",
       "      <td>7596</td>\n",
       "      <td>A Digital 9/11 If Trump Wins</td>\n",
       "      <td>Finian Cunningham</td>\n",
       "      <td>Finian Cunningham has written extensively on...</td>\n",
       "      <td>1</td>\n",
       "    </tr>\n",
       "    <tr>\n",
       "      <th>5</th>\n",
       "      <td>6</td>\n",
       "      <td>5134</td>\n",
       "      <td>Rapid Evolution Saved This Fish From Pollution...</td>\n",
       "      <td>JoAnna Klein</td>\n",
       "      <td>The State of New Jersey says you can’t eat the...</td>\n",
       "      <td>0</td>\n",
       "    </tr>\n",
       "    <tr>\n",
       "      <th>6</th>\n",
       "      <td>7</td>\n",
       "      <td>1504</td>\n",
       "      <td>Alabama Prison Officials Retaliate Against Pri...</td>\n",
       "      <td>Brian Sonenstein</td>\n",
       "      <td>Advocates say prison officials at the Kilby Co...</td>\n",
       "      <td>1</td>\n",
       "    </tr>\n",
       "    <tr>\n",
       "      <th>7</th>\n",
       "      <td>9</td>\n",
       "      <td>4203</td>\n",
       "      <td>Can We Live in a Constant State of Love?</td>\n",
       "      <td>Gillian</td>\n",
       "      <td>Leave a reply \\nToni Emerson – When we fall in...</td>\n",
       "      <td>1</td>\n",
       "    </tr>\n",
       "    <tr>\n",
       "      <th>8</th>\n",
       "      <td>10</td>\n",
       "      <td>11136</td>\n",
       "      <td>Is Hillary a Closet Drunk… New WikiLeak Email ...</td>\n",
       "      <td>V Saxena</td>\n",
       "      <td>BREAKING: Clinton Fixer Reveals Sick Smear Hil...</td>\n",
       "      <td>1</td>\n",
       "    </tr>\n",
       "    <tr>\n",
       "      <th>9</th>\n",
       "      <td>11</td>\n",
       "      <td>2150</td>\n",
       "      <td>BLOOMBERG-BACKED PENNSYLVANIA ATTORNEY GENERAL...</td>\n",
       "      <td>Iron Sheik</td>\n",
       "      <td>Home › POLITICS | US NEWS › BLOOMBERG-BACKED P...</td>\n",
       "      <td>1</td>\n",
       "    </tr>\n",
       "    <tr>\n",
       "      <th>10</th>\n",
       "      <td>12</td>\n",
       "      <td>7583</td>\n",
       "      <td>VIDEO: Le Pen Pelted With Eggs, Keeps Smiling</td>\n",
       "      <td>Liam Deacon</td>\n",
       "      <td>Populist French presidential candidate Marine ...</td>\n",
       "      <td>0</td>\n",
       "    </tr>\n",
       "    <tr>\n",
       "      <th>11</th>\n",
       "      <td>13</td>\n",
       "      <td>10200</td>\n",
       "      <td>Donald Trump Is The Candidate For Americans, N...</td>\n",
       "      <td>Luke Stranahan</td>\n",
       "      <td>Donald Trump Is The Candidate For Americans,...</td>\n",
       "      <td>1</td>\n",
       "    </tr>\n",
       "    <tr>\n",
       "      <th>12</th>\n",
       "      <td>15</td>\n",
       "      <td>17406</td>\n",
       "      <td>Wharton Business School Backers Seek Distance ...</td>\n",
       "      <td>Steve Eder</td>\n",
       "      <td>Donald J. Trump often cites his undergraduate ...</td>\n",
       "      <td>0</td>\n",
       "    </tr>\n",
       "    <tr>\n",
       "      <th>13</th>\n",
       "      <td>16</td>\n",
       "      <td>6857</td>\n",
       "      <td>Brexit Ruling Just Latest Tactic to Block Will...</td>\n",
       "      <td>Daniel Greenfield</td>\n",
       "      <td>Brexit Ruling Just Latest Tactic to Block Will...</td>\n",
       "      <td>1</td>\n",
       "    </tr>\n",
       "    <tr>\n",
       "      <th>14</th>\n",
       "      <td>17</td>\n",
       "      <td>4694</td>\n",
       "      <td>Millions of South Koreans Rise Up Against Shad...</td>\n",
       "      <td>Madeline</td>\n",
       "      <td>Your News Wire \\nSouth Koreans are rising up i...</td>\n",
       "      <td>1</td>\n",
       "    </tr>\n",
       "  </tbody>\n",
       "</table>\n",
       "</div>"
      ],
      "text/plain": [
       "    index     id                                           headline  \\\n",
       "0       0   9653  Ethics Questions Dogged Agriculture Nominee as...   \n",
       "1       1  10041  U.S. Must Dig Deep to Stop Argentina’s Lionel ...   \n",
       "2       2  19113  Cotton to House: ’Do Not Walk the Plank and Vo...   \n",
       "3       3   6868  Paul LePage, Besieged Maine Governor, Sends Co...   \n",
       "4       4   7596                       A Digital 9/11 If Trump Wins   \n",
       "5       6   5134  Rapid Evolution Saved This Fish From Pollution...   \n",
       "6       7   1504  Alabama Prison Officials Retaliate Against Pri...   \n",
       "7       9   4203           Can We Live in a Constant State of Love?   \n",
       "8      10  11136  Is Hillary a Closet Drunk… New WikiLeak Email ...   \n",
       "9      11   2150  BLOOMBERG-BACKED PENNSYLVANIA ATTORNEY GENERAL...   \n",
       "10     12   7583      VIDEO: Le Pen Pelted With Eggs, Keeps Smiling   \n",
       "11     13  10200  Donald Trump Is The Candidate For Americans, N...   \n",
       "12     15  17406  Wharton Business School Backers Seek Distance ...   \n",
       "13     16   6857  Brexit Ruling Just Latest Tactic to Block Will...   \n",
       "14     17   4694  Millions of South Koreans Rise Up Against Shad...   \n",
       "\n",
       "                    written_by  \\\n",
       "0   Eric Lipton and Steve Eder   \n",
       "1              David Waldstein   \n",
       "2                      Pam Key   \n",
       "3                 Jess Bidgood   \n",
       "4            Finian Cunningham   \n",
       "5                 JoAnna Klein   \n",
       "6             Brian Sonenstein   \n",
       "7                      Gillian   \n",
       "8                     V Saxena   \n",
       "9                   Iron Sheik   \n",
       "10                 Liam Deacon   \n",
       "11              Luke Stranahan   \n",
       "12                  Steve Eder   \n",
       "13           Daniel Greenfield   \n",
       "14                    Madeline   \n",
       "\n",
       "                                                 news  label  \n",
       "0   WASHINGTON  —   In Sonny Perdue’s telling, Geo...      0  \n",
       "1   HOUSTON  —   Venezuela had a plan. It was a ta...      0  \n",
       "2   Sunday on ABC’s “This Week,” while discussing ...      0  \n",
       "3   AUGUSTA, Me.  —   The beleaguered Republican g...      0  \n",
       "4     Finian Cunningham has written extensively on...      1  \n",
       "5   The State of New Jersey says you can’t eat the...      0  \n",
       "6   Advocates say prison officials at the Kilby Co...      1  \n",
       "7   Leave a reply \\nToni Emerson – When we fall in...      1  \n",
       "8   BREAKING: Clinton Fixer Reveals Sick Smear Hil...      1  \n",
       "9   Home › POLITICS | US NEWS › BLOOMBERG-BACKED P...      1  \n",
       "10  Populist French presidential candidate Marine ...      0  \n",
       "11    Donald Trump Is The Candidate For Americans,...      1  \n",
       "12  Donald J. Trump often cites his undergraduate ...      0  \n",
       "13  Brexit Ruling Just Latest Tactic to Block Will...      1  \n",
       "14  Your News Wire \\nSouth Koreans are rising up i...      1  "
      ]
     },
     "execution_count": 9,
     "metadata": {},
     "output_type": "execute_result"
    }
   ],
   "source": [
    "df.head(15)"
   ]
  },
  {
   "cell_type": "code",
   "execution_count": 10,
   "metadata": {},
   "outputs": [
    {
     "data": {
      "text/plain": [
       "(18285, 6)"
      ]
     },
     "execution_count": 10,
     "metadata": {},
     "output_type": "execute_result"
    }
   ],
   "source": [
    "df.shape"
   ]
  },
  {
   "cell_type": "markdown",
   "metadata": {},
   "source": [
    "###### Observations: The dataset containing 20800 rows has now reduced to 18285."
   ]
  },
  {
   "cell_type": "code",
   "execution_count": 11,
   "metadata": {},
   "outputs": [
    {
     "data": {
      "text/plain": [
       "index          int64\n",
       "id             int64\n",
       "headline      object\n",
       "written_by    object\n",
       "news          object\n",
       "label          int64\n",
       "dtype: object"
      ]
     },
     "execution_count": 11,
     "metadata": {},
     "output_type": "execute_result"
    }
   ],
   "source": [
    "# Checking for the datatypes\n",
    "df.dtypes"
   ]
  },
  {
   "cell_type": "markdown",
   "metadata": {},
   "source": [
    "###### Observations: The columns headline,written_by,news are of object type and remaining columns are of int type"
   ]
  },
  {
   "cell_type": "code",
   "execution_count": 12,
   "metadata": {},
   "outputs": [
    {
     "name": "stdout",
     "output_type": "stream",
     "text": [
      "index ==> 18285\n",
      "id ==> 18285\n",
      "headline ==> 17931\n",
      "written_by ==> 3838\n",
      "news ==> 18017\n",
      "label ==> 2\n"
     ]
    }
   ],
   "source": [
    "# Checking for count of unique values in each feature\n",
    "for s in  df.columns:\n",
    "    print(s,'==>',df[s].nunique())"
   ]
  },
  {
   "cell_type": "code",
   "execution_count": 13,
   "metadata": {},
   "outputs": [
    {
     "data": {
      "image/png": "[encoded data removed]",
      "text/plain": [
       "<Figure size 432x288 with 1 Axes>"
      ]
     },
     "metadata": {
      "needs_background": "light"
     },
     "output_type": "display_data"
    }
   ],
   "source": [
    "# Visualizing the Length of news\n",
    "lens = df.news.str.len()\n",
    "sns.distplot(lens)\n",
    "plt.title(\"Distribution for Length of news\")\n",
    "plt.show()"
   ]
  },
  {
   "cell_type": "code",
   "execution_count": 14,
   "metadata": {},
   "outputs": [
    {
     "data": {
      "text/plain": [
       "0    10361\n",
       "1     7924\n",
       "Name: label, dtype: int64"
      ]
     },
     "execution_count": 14,
     "metadata": {},
     "output_type": "execute_result"
    }
   ],
   "source": [
    "# Checking the count of each label\n",
    "df['label'].value_counts()"
   ]
  },
  {
   "cell_type": "code",
   "execution_count": 15,
   "metadata": {},
   "outputs": [
    {
     "name": "stdout",
     "output_type": "stream",
     "text": [
      "Ratio of Notfake News : 56.99999999999999 %\n",
      "Ratio of Fake News : 43.0 %\n"
     ]
    }
   ],
   "source": [
    "print(\"Ratio of Notfake News :\",round(len(df[df['label']==0])/len(df['label']),2)*100,'%')\n",
    "print(\"Ratio of Fake News :\",round(len(df[df['label']==1])/len(df['label']),2)*100,'%')"
   ]
  },
  {
   "cell_type": "code",
   "execution_count": 16,
   "metadata": {},
   "outputs": [
    {
     "data": {
      "text/plain": [
       "<AxesSubplot:>"
      ]
     },
     "execution_count": 16,
     "metadata": {},
     "output_type": "execute_result"
    },
    {
     "data": {
      "image/png": "[encoded data removed]",
      "text/plain": [
       "<Figure size 432x288 with 1 Axes>"
      ]
     },
     "metadata": {
      "needs_background": "light"
     },
     "output_type": "display_data"
    }
   ],
   "source": [
    "# Plotting the count of label using barplot\n",
    "df['label'].value_counts().plot.bar()"
   ]
  },
  {
   "cell_type": "code",
   "execution_count": 17,
   "metadata": {},
   "outputs": [
    {
     "data": {
      "text/html": [
       "<div>\n",
       "<style scoped>\n",
       "    .dataframe tbody tr th:only-of-type {\n",
       "        vertical-align: middle;\n",
       "    }\n",
       "\n",
       "    .dataframe tbody tr th {\n",
       "        vertical-align: top;\n",
       "    }\n",
       "\n",
       "    .dataframe thead th {\n",
       "        text-align: right;\n",
       "    }\n",
       "</style>\n",
       "<table border=\"1\" class=\"dataframe\">\n",
       "  <thead>\n",
       "    <tr style=\"text-align: right;\">\n",
       "      <th></th>\n",
       "      <th>index</th>\n",
       "      <th>id</th>\n",
       "      <th>headline</th>\n",
       "      <th>written_by</th>\n",
       "      <th>news</th>\n",
       "      <th>label</th>\n",
       "      <th>length</th>\n",
       "    </tr>\n",
       "  </thead>\n",
       "  <tbody>\n",
       "    <tr>\n",
       "      <th>0</th>\n",
       "      <td>0</td>\n",
       "      <td>9653</td>\n",
       "      <td>Ethics Questions Dogged Agriculture Nominee as...</td>\n",
       "      <td>Eric Lipton and Steve Eder</td>\n",
       "      <td>WASHINGTON  —   In Sonny Perdue’s telling, Geo...</td>\n",
       "      <td>0</td>\n",
       "      <td>7936</td>\n",
       "    </tr>\n",
       "    <tr>\n",
       "      <th>1</th>\n",
       "      <td>1</td>\n",
       "      <td>10041</td>\n",
       "      <td>U.S. Must Dig Deep to Stop Argentina’s Lionel ...</td>\n",
       "      <td>David Waldstein</td>\n",
       "      <td>HOUSTON  —   Venezuela had a plan. It was a ta...</td>\n",
       "      <td>0</td>\n",
       "      <td>6112</td>\n",
       "    </tr>\n",
       "    <tr>\n",
       "      <th>2</th>\n",
       "      <td>2</td>\n",
       "      <td>19113</td>\n",
       "      <td>Cotton to House: ’Do Not Walk the Plank and Vo...</td>\n",
       "      <td>Pam Key</td>\n",
       "      <td>Sunday on ABC’s “This Week,” while discussing ...</td>\n",
       "      <td>0</td>\n",
       "      <td>425</td>\n",
       "    </tr>\n",
       "    <tr>\n",
       "      <th>3</th>\n",
       "      <td>3</td>\n",
       "      <td>6868</td>\n",
       "      <td>Paul LePage, Besieged Maine Governor, Sends Co...</td>\n",
       "      <td>Jess Bidgood</td>\n",
       "      <td>AUGUSTA, Me.  —   The beleaguered Republican g...</td>\n",
       "      <td>0</td>\n",
       "      <td>6516</td>\n",
       "    </tr>\n",
       "  </tbody>\n",
       "</table>\n",
       "</div>"
      ],
      "text/plain": [
       "   index     id                                           headline  \\\n",
       "0      0   9653  Ethics Questions Dogged Agriculture Nominee as...   \n",
       "1      1  10041  U.S. Must Dig Deep to Stop Argentina’s Lionel ...   \n",
       "2      2  19113  Cotton to House: ’Do Not Walk the Plank and Vo...   \n",
       "3      3   6868  Paul LePage, Besieged Maine Governor, Sends Co...   \n",
       "\n",
       "                   written_by  \\\n",
       "0  Eric Lipton and Steve Eder   \n",
       "1             David Waldstein   \n",
       "2                     Pam Key   \n",
       "3                Jess Bidgood   \n",
       "\n",
       "                                                news  label  length  \n",
       "0  WASHINGTON  —   In Sonny Perdue’s telling, Geo...      0    7936  \n",
       "1  HOUSTON  —   Venezuela had a plan. It was a ta...      0    6112  \n",
       "2  Sunday on ABC’s “This Week,” while discussing ...      0     425  \n",
       "3  AUGUSTA, Me.  —   The beleaguered Republican g...      0    6516  "
      ]
     },
     "execution_count": 17,
     "metadata": {},
     "output_type": "execute_result"
    }
   ],
   "source": [
    "# Adding a column(length) which indicates the length of news column\n",
    "df['length'] = df['news'].str.len()\n",
    "df.head(4)"
   ]
  },
  {
   "cell_type": "code",
   "execution_count": 18,
   "metadata": {},
   "outputs": [
    {
     "data": {
      "image/png": "[encoded data removed]",
      "text/plain": [
       "<Figure size 1440x504 with 2 Axes>"
      ]
     },
     "metadata": {
      "needs_background": "light"
     },
     "output_type": "display_data"
    }
   ],
   "source": [
    "# Visualizing the length of each label\n",
    "df.hist(column='length', by='label', bins=10, figsize=(20,7));"
   ]
  },
  {
   "cell_type": "code",
   "execution_count": 19,
   "metadata": {},
   "outputs": [
    {
     "data": {
      "text/plain": [
       "'Sunday on ABC’s “This Week,” while discussing the Republican plan to repeal and replace Obamacare Sen. Tom Cotton ( ) warned GOP House members “Do not walk the plank and vote for a bill that cannot pass the Senate and then have to face the consequences of that vote. ”  He added, “The bill probably can be fixed, but it’s going to take a lot of carpentry on that framework. ” (  The Hill) Follow Pam Key on Twitter @pamkeyNEN'"
      ]
     },
     "execution_count": 19,
     "metadata": {},
     "output_type": "execute_result"
    }
   ],
   "source": [
    "# News at index 2 is small. So,we check the preprocessing steps with it easily.\n",
    "df['news'][2]"
   ]
  },
  {
   "cell_type": "markdown",
   "metadata": {},
   "source": [
    "# Building word dictionary"
   ]
  },
  {
   "cell_type": "code",
   "execution_count": 20,
   "metadata": {},
   "outputs": [
    {
     "data": {
      "text/plain": [
       "'Sunday on ABC’s “This Week,” while discussing the Republican plan to repeal and replace Obamacare Sen. Tom Cotton ( ) warned GOP House members “Do not walk the plank and vote for a bill that cannot pass the Senate and then have to face the consequences of that vote. ”  He added, “The bill probably can be fixed, but it’s going to take a lot of carpentry on that framework. ” (  The Hill) Follow Pam Key on Twitter @pamkeyNEN'"
      ]
     },
     "execution_count": 20,
     "metadata": {},
     "output_type": "execute_result"
    }
   ],
   "source": [
    "# Removing HTML tags\n",
    "import re\n",
    "def reg(text):\n",
    "    clean = re.compile(r\"<.*?>\")\n",
    "    return re.sub(clean,\" \",text)     # replacing Substring  with \" \"\n",
    "\n",
    "df.news = df.news.apply(reg)\n",
    "df.news[2]"
   ]
  },
  {
   "cell_type": "code",
   "execution_count": 21,
   "metadata": {},
   "outputs": [],
   "source": [
    "# Removing Special Characters\n",
    "def special_char(text):\n",
    "    Special_Characters = ''\n",
    "    for i in text:\n",
    "        if i.isalnum():\n",
    "            Special_Characters = Special_Characters + i\n",
    "        else:\n",
    "            Special_Characters = Special_Characters + ' '\n",
    "    return Special_Characters"
   ]
  },
  {
   "cell_type": "code",
   "execution_count": 22,
   "metadata": {},
   "outputs": [
    {
     "data": {
      "text/plain": [
       "'Sunday on ABC s  This Week   while discussing the Republican plan to repeal and replace Obamacare Sen  Tom Cotton     warned GOP House members  Do not walk the plank and vote for a bill that cannot pass the Senate and then have to face the consequences of that vote     He added   The bill probably can be fixed  but it s going to take a lot of carpentry on that framework       The Hill  Follow Pam Key on Twitter  pamkeyNEN'"
      ]
     },
     "execution_count": 22,
     "metadata": {},
     "output_type": "execute_result"
    }
   ],
   "source": [
    "df.news = df.news.apply(special_char)\n",
    "df.news[2]"
   ]
  },
  {
   "cell_type": "code",
   "execution_count": 23,
   "metadata": {},
   "outputs": [
    {
     "data": {
      "text/plain": [
       "'sunday on abc s  this week   while discussing the republican plan to repeal and replace obamacare sen  tom cotton     warned gop house members  do not walk the plank and vote for a bill that cannot pass the senate and then have to face the consequences of that vote     he added   the bill probably can be fixed  but it s going to take a lot of carpentry on that framework       the hill  follow pam key on twitter  pamkeynen'"
      ]
     },
     "execution_count": 23,
     "metadata": {},
     "output_type": "execute_result"
    }
   ],
   "source": [
    "# Converting news column to Lowercase\n",
    "def lower(text):\n",
    "    return text.lower()\n",
    "\n",
    "df.news = df.news.apply(lower)\n",
    "df.news[2]"
   ]
  },
  {
   "cell_type": "code",
   "execution_count": 24,
   "metadata": {},
   "outputs": [
    {
     "data": {
      "text/plain": [
       "['sunday',\n",
       " 'abc',\n",
       " 'week',\n",
       " 'discussing',\n",
       " 'republican',\n",
       " 'plan',\n",
       " 'repeal',\n",
       " 'replace',\n",
       " 'obamacare',\n",
       " 'sen',\n",
       " 'tom',\n",
       " 'cotton',\n",
       " 'warned',\n",
       " 'gop',\n",
       " 'house',\n",
       " 'members',\n",
       " 'walk',\n",
       " 'plank',\n",
       " 'vote',\n",
       " 'bill',\n",
       " 'pass',\n",
       " 'senate',\n",
       " 'face',\n",
       " 'consequences',\n",
       " 'vote',\n",
       " 'added',\n",
       " 'bill',\n",
       " 'probably',\n",
       " 'fixed',\n",
       " 'going',\n",
       " 'take',\n",
       " 'lot',\n",
       " 'carpentry',\n",
       " 'framework',\n",
       " 'hill',\n",
       " 'follow',\n",
       " 'pam',\n",
       " 'key',\n",
       " 'twitter',\n",
       " 'pamkeynen']"
      ]
     },
     "execution_count": 24,
     "metadata": {},
     "output_type": "execute_result"
    }
   ],
   "source": [
    "# Removing the stopwords\n",
    "from nltk.corpus import stopwords  #For stopwords\n",
    "from nltk.tokenize import word_tokenize\n",
    "\n",
    "def remove_stopwords(text):\n",
    "    stop_words = set(stopwords.words('english') + ['u', 'ü', 'ur', '4', '2', 'im', 'dont', 'doin', 'ure'])\n",
    "    words = word_tokenize(text)\n",
    "    return [w for w in words if w not in stop_words]\n",
    "\n",
    "df.news = df.news.apply(remove_stopwords)\n",
    "df.news[2]"
   ]
  },
  {
   "cell_type": "code",
   "execution_count": 25,
   "metadata": {},
   "outputs": [
    {
     "data": {
      "text/html": [
       "<div>\n",
       "<style scoped>\n",
       "    .dataframe tbody tr th:only-of-type {\n",
       "        vertical-align: middle;\n",
       "    }\n",
       "\n",
       "    .dataframe tbody tr th {\n",
       "        vertical-align: top;\n",
       "    }\n",
       "\n",
       "    .dataframe thead th {\n",
       "        text-align: right;\n",
       "    }\n",
       "</style>\n",
       "<table border=\"1\" class=\"dataframe\">\n",
       "  <thead>\n",
       "    <tr style=\"text-align: right;\">\n",
       "      <th></th>\n",
       "      <th>index</th>\n",
       "      <th>id</th>\n",
       "      <th>headline</th>\n",
       "      <th>written_by</th>\n",
       "      <th>news</th>\n",
       "      <th>label</th>\n",
       "      <th>length</th>\n",
       "      <th>length of cleaned data</th>\n",
       "    </tr>\n",
       "  </thead>\n",
       "  <tbody>\n",
       "    <tr>\n",
       "      <th>0</th>\n",
       "      <td>0</td>\n",
       "      <td>9653</td>\n",
       "      <td>Ethics Questions Dogged Agriculture Nominee as...</td>\n",
       "      <td>Eric Lipton and Steve Eder</td>\n",
       "      <td>[washington, sonny, perdue, telling, georgians...</td>\n",
       "      <td>0</td>\n",
       "      <td>7936</td>\n",
       "      <td>745</td>\n",
       "    </tr>\n",
       "    <tr>\n",
       "      <th>1</th>\n",
       "      <td>1</td>\n",
       "      <td>10041</td>\n",
       "      <td>U.S. Must Dig Deep to Stop Argentina’s Lionel ...</td>\n",
       "      <td>David Waldstein</td>\n",
       "      <td>[houston, venezuela, plan, tactical, approach,...</td>\n",
       "      <td>0</td>\n",
       "      <td>6112</td>\n",
       "      <td>589</td>\n",
       "    </tr>\n",
       "    <tr>\n",
       "      <th>2</th>\n",
       "      <td>2</td>\n",
       "      <td>19113</td>\n",
       "      <td>Cotton to House: ’Do Not Walk the Plank and Vo...</td>\n",
       "      <td>Pam Key</td>\n",
       "      <td>[sunday, abc, week, discussing, republican, pl...</td>\n",
       "      <td>0</td>\n",
       "      <td>425</td>\n",
       "      <td>40</td>\n",
       "    </tr>\n",
       "    <tr>\n",
       "      <th>3</th>\n",
       "      <td>3</td>\n",
       "      <td>6868</td>\n",
       "      <td>Paul LePage, Besieged Maine Governor, Sends Co...</td>\n",
       "      <td>Jess Bidgood</td>\n",
       "      <td>[augusta, beleaguered, republican, governor, m...</td>\n",
       "      <td>0</td>\n",
       "      <td>6516</td>\n",
       "      <td>595</td>\n",
       "    </tr>\n",
       "    <tr>\n",
       "      <th>4</th>\n",
       "      <td>4</td>\n",
       "      <td>7596</td>\n",
       "      <td>A Digital 9/11 If Trump Wins</td>\n",
       "      <td>Finian Cunningham</td>\n",
       "      <td>[finian, cunningham, written, extensively, int...</td>\n",
       "      <td>1</td>\n",
       "      <td>9164</td>\n",
       "      <td>874</td>\n",
       "    </tr>\n",
       "  </tbody>\n",
       "</table>\n",
       "</div>"
      ],
      "text/plain": [
       "   index     id                                           headline  \\\n",
       "0      0   9653  Ethics Questions Dogged Agriculture Nominee as...   \n",
       "1      1  10041  U.S. Must Dig Deep to Stop Argentina’s Lionel ...   \n",
       "2      2  19113  Cotton to House: ’Do Not Walk the Plank and Vo...   \n",
       "3      3   6868  Paul LePage, Besieged Maine Governor, Sends Co...   \n",
       "4      4   7596                       A Digital 9/11 If Trump Wins   \n",
       "\n",
       "                   written_by  \\\n",
       "0  Eric Lipton and Steve Eder   \n",
       "1             David Waldstein   \n",
       "2                     Pam Key   \n",
       "3                Jess Bidgood   \n",
       "4           Finian Cunningham   \n",
       "\n",
       "                                                news  label  length  \\\n",
       "0  [washington, sonny, perdue, telling, georgians...      0    7936   \n",
       "1  [houston, venezuela, plan, tactical, approach,...      0    6112   \n",
       "2  [sunday, abc, week, discussing, republican, pl...      0     425   \n",
       "3  [augusta, beleaguered, republican, governor, m...      0    6516   \n",
       "4  [finian, cunningham, written, extensively, int...      1    9164   \n",
       "\n",
       "   length of cleaned data  \n",
       "0                     745  \n",
       "1                     589  \n",
       "2                      40  \n",
       "3                     595  \n",
       "4                     874  "
      ]
     },
     "execution_count": 25,
     "metadata": {},
     "output_type": "execute_result"
    }
   ],
   "source": [
    "# Adding column of cleaned length after puncuations,stopwords removal\n",
    "df['length of cleaned data'] = df['news'].str.len()\n",
    "df.head()"
   ]
  },
  {
   "cell_type": "code",
   "execution_count": 26,
   "metadata": {},
   "outputs": [
    {
     "name": "stdout",
     "output_type": "stream",
     "text": [
      "Original Length 87771325\n",
      "Cleaned Length 8295841\n"
     ]
    }
   ],
   "source": [
    "# Checking the Total and cleaned length\n",
    "print ('Original Length', df.length.sum())\n",
    "print ('Cleaned Length', df['length of cleaned data'].sum())"
   ]
  },
  {
   "cell_type": "code",
   "execution_count": 27,
   "metadata": {},
   "outputs": [
    {
     "data": {
      "text/plain": [
       "'sunday abc week discuss republican plan repeal replac obamacar sen tom cotton warn gop hous member walk plank vote bill pass senat face consequ vote ad bill probabl fix go take lot carpentri framework hill follow pam key twitter pamkeynen'"
      ]
     },
     "execution_count": 27,
     "metadata": {},
     "output_type": "execute_result"
    }
   ],
   "source": [
    "# Stemming using Snowball\n",
    "from nltk.stem import SnowballStemmer\n",
    "\n",
    "def stem_text(text):\n",
    "    snowball = SnowballStemmer('english')\n",
    "    return \" \".join([snowball.stem(w) for w in text])\n",
    "\n",
    "df.news = df.news.apply(stem_text)\n",
    "df.news[2]"
   ]
  },
  {
   "cell_type": "code",
   "execution_count": 28,
   "metadata": {},
   "outputs": [
    {
     "data": {
      "image/png": "[encoded data removed]",
      "text/plain": [
       "<Figure size 720x576 with 1 Axes>"
      ]
     },
     "metadata": {},
     "output_type": "display_data"
    }
   ],
   "source": [
    "#Getting repeated words in label 1\n",
    "from wordcloud import WordCloud\n",
    "fake = df['news'][df['label']==1]\n",
    "fake_cloud = WordCloud(width=700,height=350,background_color='black',max_words=20).generate(' '.join(fake))\n",
    "plt.figure(figsize=(10,8),facecolor='g')\n",
    "plt.imshow(fake_cloud)\n",
    "plt.axis('off')\n",
    "plt.tight_layout(pad=0)\n",
    "plt.show()"
   ]
  },
  {
   "cell_type": "code",
   "execution_count": 29,
   "metadata": {},
   "outputs": [
    {
     "data": {
      "image/png": "[encoded data removed]",
      "text/plain": [
       "<Figure size 720x576 with 1 Axes>"
      ]
     },
     "metadata": {},
     "output_type": "display_data"
    }
   ],
   "source": [
    "#Getting repeated words in label 0 \n",
    "notfake = df['news'][df['label']==0]\n",
    "notfake_cloud = WordCloud(width=700,height=350,background_color='black',max_words=50).generate(' '.join(notfake))\n",
    "plt.figure(figsize=(10,8),facecolor='g')\n",
    "plt.imshow(notfake_cloud)\n",
    "plt.axis('off')\n",
    "plt.tight_layout(pad=0)\n",
    "plt.show()"
   ]
  },
  {
   "cell_type": "markdown",
   "metadata": {},
   "source": [
    "# Feature Extraction"
   ]
  },
  {
   "cell_type": "code",
   "execution_count": 30,
   "metadata": {},
   "outputs": [],
   "source": [
    "# Importing the library and converting it into vectors\n",
    "from sklearn.feature_extraction.text import TfidfVectorizer\n",
    "# Using TfidfVectorizer to deal the frequent words\n",
    "tf_vec = TfidfVectorizer()\n",
    "\n",
    "#Seperating into input and output variables\n",
    "x = tf_vec.fit_transform(df['news'])\n",
    "y = df['label']"
   ]
  },
  {
   "cell_type": "code",
   "execution_count": 31,
   "metadata": {},
   "outputs": [
    {
     "data": {
      "text/plain": [
       "['00',\n",
       " '000',\n",
       " '0000',\n",
       " '000035',\n",
       " '0001',\n",
       " '00012',\n",
       " '0002',\n",
       " '000202',\n",
       " '000205',\n",
       " '0002062',\n",
       " '000billion',\n",
       " '000c',\n",
       " '000k',\n",
       " '000km',\n",
       " '000lb',\n",
       " '000m',\n",
       " '000mg',\n",
       " '000s',\n",
       " '000th',\n",
       " '000â']"
      ]
     },
     "execution_count": 31,
     "metadata": {},
     "output_type": "execute_result"
    }
   ],
   "source": [
    "tf_vec.get_feature_names()[:20]"
   ]
  },
  {
   "cell_type": "code",
   "execution_count": 32,
   "metadata": {},
   "outputs": [
    {
     "data": {
      "text/plain": [
       "{'analyzer': 'word',\n",
       " 'binary': False,\n",
       " 'decode_error': 'strict',\n",
       " 'dtype': numpy.float64,\n",
       " 'encoding': 'utf-8',\n",
       " 'input': 'content',\n",
       " 'lowercase': True,\n",
       " 'max_df': 1.0,\n",
       " 'max_features': None,\n",
       " 'min_df': 1,\n",
       " 'ngram_range': (1, 1),\n",
       " 'norm': 'l2',\n",
       " 'preprocessor': None,\n",
       " 'smooth_idf': True,\n",
       " 'stop_words': None,\n",
       " 'strip_accents': None,\n",
       " 'sublinear_tf': False,\n",
       " 'token_pattern': '(?u)\\\\b\\\\w\\\\w+\\\\b',\n",
       " 'tokenizer': None,\n",
       " 'use_idf': True,\n",
       " 'vocabulary': None}"
      ]
     },
     "execution_count": 32,
     "metadata": {},
     "output_type": "execute_result"
    }
   ],
   "source": [
    "tf_vec.get_params()"
   ]
  },
  {
   "cell_type": "markdown",
   "metadata": {},
   "source": [
    "# Training Classifiers"
   ]
  },
  {
   "cell_type": "code",
   "execution_count": 33,
   "metadata": {
    "scrolled": true
   },
   "outputs": [],
   "source": [
    "#Breaking our input and target variable into train and test data\n",
    "from sklearn.model_selection import train_test_split\n",
    "x_train,x_test,y_train,y_test = train_test_split(x,y,test_size=0.2,random_state=42)"
   ]
  },
  {
   "cell_type": "code",
   "execution_count": 34,
   "metadata": {},
   "outputs": [],
   "source": [
    "# Importing all the model library\n",
    "from sklearn.linear_model import LogisticRegression\n",
    "from sklearn.svm import SVC\n",
    "from sklearn.naive_bayes import MultinomialNB\n",
    "from sklearn.linear_model import PassiveAggressiveClassifier\n",
    "from sklearn.ensemble import RandomForestClassifier\n",
    "# Importing performance metrics\n",
    "from sklearn.metrics import accuracy_score, confusion_matrix, classification_report"
   ]
  },
  {
   "cell_type": "markdown",
   "metadata": {},
   "source": [
    "# Finding the best parameters"
   ]
  },
  {
   "cell_type": "code",
   "execution_count": 35,
   "metadata": {},
   "outputs": [],
   "source": [
    "model_params = {\n",
    "    \n",
    "    'MultinomialNB':{\n",
    "        'model':MultinomialNB(),\n",
    "        'params': {\n",
    "            'alpha':np.arange(1,1.5,0.3),\n",
    "            'fit_prior':['True','False']\n",
    "        }   \n",
    "    },\n",
    "    \n",
    "     'Logistic Regression' : {\n",
    "        'model': LogisticRegression(),\n",
    "        'params': {\n",
    "            'penalty':['l1','l2','elasticnet'],\n",
    "            'C': np.arange(0,1,0.2)\n",
    "        \n",
    "        }\n",
    "    }\n",
    "}"
   ]
  },
  {
   "cell_type": "code",
   "execution_count": 36,
   "metadata": {},
   "outputs": [],
   "source": [
    "# Making a list of scores and appending the parameters to it after hyperparameter tuning\n",
    "scores = []\n",
    "from sklearn.model_selection import GridSearchCV,cross_val_score\n",
    "for model_name, mp in model_params.items():\n",
    "    clf =  GridSearchCV(mp['model'], mp['params'], cv=5, return_train_score=False)\n",
    "    clf.fit(x, y)\n",
    "    scores.append({\n",
    "        'model': model_name,\n",
    "        'best_score': clf.best_score_,\n",
    "        'best_params': clf.best_params_\n",
    "    })"
   ]
  },
  {
   "cell_type": "code",
   "execution_count": 37,
   "metadata": {},
   "outputs": [
    {
     "data": {
      "text/html": [
       "<div>\n",
       "<style scoped>\n",
       "    .dataframe tbody tr th:only-of-type {\n",
       "        vertical-align: middle;\n",
       "    }\n",
       "\n",
       "    .dataframe tbody tr th {\n",
       "        vertical-align: top;\n",
       "    }\n",
       "\n",
       "    .dataframe thead th {\n",
       "        text-align: right;\n",
       "    }\n",
       "</style>\n",
       "<table border=\"1\" class=\"dataframe\">\n",
       "  <thead>\n",
       "    <tr style=\"text-align: right;\">\n",
       "      <th></th>\n",
       "      <th>model</th>\n",
       "      <th>best_score</th>\n",
       "      <th>best_params</th>\n",
       "    </tr>\n",
       "  </thead>\n",
       "  <tbody>\n",
       "    <tr>\n",
       "      <th>0</th>\n",
       "      <td>MultinomialNB</td>\n",
       "      <td>0.756248</td>\n",
       "      <td>{'alpha': 1.0, 'fit_prior': 'True'}</td>\n",
       "    </tr>\n",
       "    <tr>\n",
       "      <th>1</th>\n",
       "      <td>Logistic Regression</td>\n",
       "      <td>0.948865</td>\n",
       "      <td>{'C': 0.8, 'penalty': 'l2'}</td>\n",
       "    </tr>\n",
       "  </tbody>\n",
       "</table>\n",
       "</div>"
      ],
      "text/plain": [
       "                 model  best_score                          best_params\n",
       "0        MultinomialNB    0.756248  {'alpha': 1.0, 'fit_prior': 'True'}\n",
       "1  Logistic Regression    0.948865          {'C': 0.8, 'penalty': 'l2'}"
      ]
     },
     "execution_count": 37,
     "metadata": {},
     "output_type": "execute_result"
    }
   ],
   "source": [
    "# Making a dataframe best which contains model,best_score & best_params\n",
    "best= pd.DataFrame(scores,columns=['model','best_score','best_params'])\n",
    "# Viewing the dataframe\n",
    "best"
   ]
  },
  {
   "cell_type": "code",
   "execution_count": 47,
   "metadata": {},
   "outputs": [
    {
     "name": "stdout",
     "output_type": "stream",
     "text": [
      "{'C': 0.8, 'n_iter_no_change': 1}\n"
     ]
    }
   ],
   "source": [
    "parampac = {'C': np.arange(0,1,0.2),'n_iter_no_change':np.arange(1,5,1)}\n",
    "clf = GridSearchCV(PassiveAggressiveClassifier(), parampac, cv=5)\n",
    "clf.fit(x, y)\n",
    "print(clf.best_params_)"
   ]
  },
  {
   "cell_type": "code",
   "execution_count": 48,
   "metadata": {},
   "outputs": [],
   "source": [
    "# Passing the best fit parameters obtained after hyperparameter tuning using GridSearchCV\n",
    "mnb = MultinomialNB(alpha = 1.0,fit_prior = True)\n",
    "lr = LogisticRegression(C = 0.8, penalty = 'l2')\n",
    "pac = PassiveAggressiveClassifier(C = 0.8, n_iter_no_change = 1)\n",
    "rfc = RandomForestClassifier(n_estimators = 100,min_samples_split = 2)"
   ]
  },
  {
   "cell_type": "code",
   "execution_count": 49,
   "metadata": {},
   "outputs": [],
   "source": [
    "# Evaluating the models using to find their performance metrics\n",
    "def evaluate_metrics(model):\n",
    "    model.fit(x_train,y_train)\n",
    "    model.score(x_train,y_train)\n",
    "    pred=model.predict(x_test)\n",
    "    print('Accuracy score of',model,'is:')\n",
    "    print(accuracy_score(y_test,pred))\n",
    "    print(confusion_matrix(y_test,pred))\n",
    "    print(classification_report(y_test,pred))"
   ]
  },
  {
   "cell_type": "code",
   "execution_count": 50,
   "metadata": {},
   "outputs": [
    {
     "name": "stdout",
     "output_type": "stream",
     "text": [
      "Accuracy score of LogisticRegression(C=0.8) is:\n",
      "0.9510527754990429\n",
      "[[2017   80]\n",
      " [  99 1461]]\n",
      "              precision    recall  f1-score   support\n",
      "\n",
      "           0       0.95      0.96      0.96      2097\n",
      "           1       0.95      0.94      0.94      1560\n",
      "\n",
      "    accuracy                           0.95      3657\n",
      "   macro avg       0.95      0.95      0.95      3657\n",
      "weighted avg       0.95      0.95      0.95      3657\n",
      "\n"
     ]
    }
   ],
   "source": [
    "evaluate_metrics(lr)"
   ]
  },
  {
   "cell_type": "code",
   "execution_count": 51,
   "metadata": {},
   "outputs": [
    {
     "name": "stdout",
     "output_type": "stream",
     "text": [
      "Accuracy score of MultinomialNB() is:\n",
      "0.762373530216024\n",
      "[[2095    2]\n",
      " [ 867  693]]\n",
      "              precision    recall  f1-score   support\n",
      "\n",
      "           0       0.71      1.00      0.83      2097\n",
      "           1       1.00      0.44      0.61      1560\n",
      "\n",
      "    accuracy                           0.76      3657\n",
      "   macro avg       0.85      0.72      0.72      3657\n",
      "weighted avg       0.83      0.76      0.74      3657\n",
      "\n"
     ]
    }
   ],
   "source": [
    "evaluate_metrics(mnb)"
   ]
  },
  {
   "cell_type": "code",
   "execution_count": 52,
   "metadata": {},
   "outputs": [
    {
     "name": "stdout",
     "output_type": "stream",
     "text": [
      "Accuracy score of PassiveAggressiveClassifier(C=0.8, n_iter_no_change=1) is:\n",
      "0.9603500136724091\n",
      "[[2020   77]\n",
      " [  68 1492]]\n",
      "              precision    recall  f1-score   support\n",
      "\n",
      "           0       0.97      0.96      0.97      2097\n",
      "           1       0.95      0.96      0.95      1560\n",
      "\n",
      "    accuracy                           0.96      3657\n",
      "   macro avg       0.96      0.96      0.96      3657\n",
      "weighted avg       0.96      0.96      0.96      3657\n",
      "\n"
     ]
    }
   ],
   "source": [
    "evaluate_metrics(pac)"
   ]
  },
  {
   "cell_type": "code",
   "execution_count": 53,
   "metadata": {},
   "outputs": [
    {
     "name": "stdout",
     "output_type": "stream",
     "text": [
      "Accuracy score of RandomForestClassifier() is:\n",
      "0.905386929176921\n",
      "[[2056   41]\n",
      " [ 305 1255]]\n",
      "              precision    recall  f1-score   support\n",
      "\n",
      "           0       0.87      0.98      0.92      2097\n",
      "           1       0.97      0.80      0.88      1560\n",
      "\n",
      "    accuracy                           0.91      3657\n",
      "   macro avg       0.92      0.89      0.90      3657\n",
      "weighted avg       0.91      0.91      0.90      3657\n",
      "\n"
     ]
    }
   ],
   "source": [
    "evaluate_metrics(rfc)"
   ]
  },
  {
   "cell_type": "code",
   "execution_count": 54,
   "metadata": {},
   "outputs": [
    {
     "name": "stdout",
     "output_type": "stream",
     "text": [
      "Accuracy score of PassiveAggressiveClassifier(C=0.8, n_iter_no_change=1) is:\n",
      "0.9592562209461307\n",
      "[[2018   79]\n",
      " [  70 1490]]\n",
      "              precision    recall  f1-score   support\n",
      "\n",
      "           0       0.97      0.96      0.96      2097\n",
      "           1       0.95      0.96      0.95      1560\n",
      "\n",
      "    accuracy                           0.96      3657\n",
      "   macro avg       0.96      0.96      0.96      3657\n",
      "weighted avg       0.96      0.96      0.96      3657\n",
      "\n"
     ]
    }
   ],
   "source": [
    "pac.fit(x_train,y_train)\n",
    "pac.score(x_train,y_train)\n",
    "predpac=pac.predict(x_test)\n",
    "print('Accuracy score of',pac,'is:')\n",
    "print(accuracy_score(y_test,predpac))\n",
    "print(confusion_matrix(y_test,predpac))\n",
    "print(classification_report(y_test,predpac))"
   ]
  },
  {
   "cell_type": "code",
   "execution_count": 55,
   "metadata": {},
   "outputs": [
    {
     "name": "stdout",
     "output_type": "stream",
     "text": [
      "True Positives:  1490\n",
      "True Negatives:  2018\n",
      "False Positives:  79\n",
      "False Negatives:  70\n"
     ]
    }
   ],
   "source": [
    "# Extracting true_positives, false_positives, true_negatives, false_negatives seperately\n",
    "tn, fp, fn, tp = confusion_matrix(y_test, predpac).ravel()\n",
    "print(\"True Positives: \",tp)\n",
    "print(\"True Negatives: \",tn)\n",
    "print(\"False Positives: \",fp)\n",
    "print(\"False Negatives: \",fn)"
   ]
  },
  {
   "cell_type": "markdown",
   "metadata": {},
   "source": [
    "## Observations from Confusion Matrix\n",
    "###### 1490 predicted not fake and its true\n",
    "###### 2018 predicted fake and it is true\n",
    "###### 79 predicted not fake and its false\n",
    "###### 70 predicted fake  and its false "
   ]
  },
  {
   "cell_type": "code",
   "execution_count": 56,
   "metadata": {},
   "outputs": [
    {
     "data": {
      "image/png": "[encoded data removed]",
      "text/plain": [
       "<Figure size 432x288 with 2 Axes>"
      ]
     },
     "metadata": {
      "needs_background": "light"
     },
     "output_type": "display_data"
    }
   ],
   "source": [
    "# Checking the performance metrics of PassiveAggressiveClassifier model in detail by visualizing Confusion matrix\n",
    "conf_mat=confusion_matrix(y_test,predpac)\n",
    "ax=plt.subplot()\n",
    "sns.heatmap(conf_mat,cmap='Blues',annot=True,ax=ax,linewidths=5,linecolor='w',center=0)\n",
    "ax.set_xlabel('Predicted Labels');ax.set_ylabel('True Labels')\n",
    "ax.set_title('Confusion matrix')\n",
    "ax.xaxis.set_ticklabels(['not fake','fake'])\n",
    "ax.yaxis.set_ticklabels(['not fake','fake'])\n",
    "plt.show()"
   ]
  },
  {
   "cell_type": "markdown",
   "metadata": {},
   "source": [
    "###### Conclusion: From all the above classifier models Passive Aggressive Classifier shows good performance metrics. So,we choose it as the best model and save it in a pickle file. "
   ]
  },
  {
   "cell_type": "code",
   "execution_count": 58,
   "metadata": {},
   "outputs": [
    {
     "name": "stdout",
     "output_type": "stream",
     "text": [
      "  (0, 337)\t0.16840978952830304\n",
      "  (0, 741)\t0.07254423273362837\n",
      "  (0, 1327)\t0.043127386718164434\n",
      "  (0, 1337)\t0.070336902042405\n",
      "  (0, 2650)\t0.10585947139077309\n",
      "  (0, 2773)\t0.17851729083712398\n",
      "  (0, 2878)\t0.200255090643906\n",
      "  (0, 4308)\t0.04232036235622858\n",
      "  (0, 5541)\t0.06338702784483713\n",
      "  (0, 6085)\t0.09685534151871471\n",
      "  (0, 6086)\t0.1510872414865666\n",
      "  (0, 6087)\t0.10724857484097457\n",
      "  (0, 6816)\t0.09454846996618226\n",
      "  (0, 8989)\t0.04508695857551443\n",
      "  (0, 9182)\t0.127264715502467\n",
      "  (0, 13940)\t0.1146180113254921\n",
      "  (0, 16064)\t0.262591399785776\n",
      "  (0, 16081)\t0.19223231551240266\n",
      "  (0, 22073)\t0.1710895887473992\n",
      "  (0, 22102)\t0.038308647049289324\n",
      "  (0, 23967)\t0.06166128570535529\n",
      "  (0, 28535)\t0.05705119617725681\n",
      "  (0, 29254)\t0.044320782491710994\n",
      "  (0, 30890)\t0.07220467279520715\n",
      "  (0, 31033)\t0.06100756184609699\n",
      "  :\t:\n",
      "  (3656, 107834)\t0.06685962126666892\n",
      "  (3656, 108004)\t0.0199605079178422\n",
      "  (3656, 109133)\t0.07177535532460781\n",
      "  (3656, 109156)\t0.06194388720873001\n",
      "  (3656, 110078)\t0.08985989836149907\n",
      "  (3656, 110801)\t0.07177535532460781\n",
      "  (3656, 110804)\t0.07177535532460781\n",
      "  (3656, 110807)\t0.07177535532460781\n",
      "  (3656, 110810)\t0.06889983523719573\n",
      "  (3656, 110825)\t0.07177535532460781\n",
      "  (3656, 110832)\t0.06889983523719573\n",
      "  (3656, 110839)\t0.06889983523719573\n",
      "  (3656, 110841)\t0.07177535532460781\n",
      "  (3656, 110842)\t0.06889983523719573\n",
      "  (3656, 110844)\t0.06685962126666892\n",
      "  (3656, 110845)\t0.06889983523719573\n",
      "  (3656, 110856)\t0.07177535532460781\n",
      "  (3656, 110862)\t0.06527710836642373\n",
      "  (3656, 110877)\t0.07177535532460781\n",
      "  (3656, 110883)\t0.07177535532460781\n",
      "  (3656, 110885)\t0.07177535532460781\n",
      "  (3656, 110893)\t0.06527710836642373\n",
      "  (3656, 110896)\t0.07177535532460781\n",
      "  (3656, 110906)\t0.07177535532460781\n",
      "  (3656, 110907)\t0.06398410117925682 [0 1 0 ... 1 1 1]\n"
     ]
    }
   ],
   "source": [
    "print(x_test, predpac)"
   ]
  },
  {
   "cell_type": "code",
   "execution_count": 59,
   "metadata": {},
   "outputs": [],
   "source": [
    "feature_names = tf_vec.get_feature_names()"
   ]
  },
  {
   "cell_type": "code",
   "execution_count": 60,
   "metadata": {},
   "outputs": [
    {
     "data": {
      "text/plain": [
       "[(8.810120176882396, 'anti'),\n",
       " (8.006829788459633, 'octob'),\n",
       " (7.05478793318838, '2016'),\n",
       " (6.807069195272478, 'non'),\n",
       " (6.743743470638119, 'co'),\n",
       " (6.0867330010274046, 'self'),\n",
       " (5.990014007933851, 'novemb'),\n",
       " (4.870085527970645, 'hillari'),\n",
       " (4.657206630516245, 'snip'),\n",
       " (4.481706279089966, 'comment'),\n",
       " (4.4545780920363045, 'howev'),\n",
       " (4.418369863313869, 'via'),\n",
       " (4.2403899299196866, 'sourc'),\n",
       " (3.9601867689870813, 'print'),\n",
       " (3.956196689473238, 'old'),\n",
       " (3.892950965907711, 'us'),\n",
       " (3.8670932965425022, 'share'),\n",
       " (3.710231408048328, 'al'),\n",
       " (3.707463968139503, 'com'),\n",
       " (3.5828254681647707, 'elect')]"
      ]
     },
     "execution_count": 60,
     "metadata": {},
     "output_type": "execute_result"
    }
   ],
   "source": [
    "# Most real news\n",
    "sorted(zip(pac.coef_[0], feature_names), reverse=True)[:20]"
   ]
  },
  {
   "cell_type": "code",
   "execution_count": 61,
   "metadata": {},
   "outputs": [
    {
     "data": {
      "text/plain": [
       "[(-9.134286369657586, 'breitbart'),\n",
       " (-7.73400600342936, 'twitter'),\n",
       " (-6.970339999023812, 'said'),\n",
       " (-6.312446105988179, '2017'),\n",
       " (-6.022788461181964, 'ms'),\n",
       " (-5.215782528103516, 'mr'),\n",
       " (-4.495395297113844, 'mrs'),\n",
       " (-4.361850526926442, 'follow'),\n",
       " (-3.4007617271337875, 'jeff'),\n",
       " (-2.96807003021551, 'presid'),\n",
       " (-2.9267245548044714, 'administr'),\n",
       " (-2.913596456054012, 'milo'),\n",
       " (-2.8777985940204984, 'dr'),\n",
       " (-2.8161902397587033, 'march'),\n",
       " (-2.7999127650429965, 'democrat'),\n",
       " (-2.7638117638142985, 'pamkeynen'),\n",
       " (-2.7616976963276736, 'sunday'),\n",
       " (-2.7592299114113925, 'last'),\n",
       " (-2.695080609484012, 'mondal'),\n",
       " (-2.6741888714716695, 'report')]"
      ]
     },
     "execution_count": 61,
     "metadata": {},
     "output_type": "execute_result"
    }
   ],
   "source": [
    "# Most fake news\n",
    "sorted(zip(pac.coef_[0], feature_names))[:20]"
   ]
  },
  {
   "cell_type": "markdown",
   "metadata": {},
   "source": [
    "# Testing Predictions"
   ]
  },
  {
   "cell_type": "code",
   "execution_count": 66,
   "metadata": {},
   "outputs": [
    {
     "data": {
      "text/plain": [
       "array([0, 1, 0, ..., 1, 1, 1], dtype=int64)"
      ]
     },
     "execution_count": 66,
     "metadata": {},
     "output_type": "execute_result"
    }
   ],
   "source": [
    "all_predictions = pac.predict(x_test)\n",
    "all_predictions"
   ]
  },
  {
   "cell_type": "code",
   "execution_count": 81,
   "metadata": {},
   "outputs": [
    {
     "data": {
      "text/html": [
       "<div>\n",
       "<style scoped>\n",
       "    .dataframe tbody tr th:only-of-type {\n",
       "        vertical-align: middle;\n",
       "    }\n",
       "\n",
       "    .dataframe tbody tr th {\n",
       "        vertical-align: top;\n",
       "    }\n",
       "\n",
       "    .dataframe thead th {\n",
       "        text-align: right;\n",
       "    }\n",
       "</style>\n",
       "<table border=\"1\" class=\"dataframe\">\n",
       "  <thead>\n",
       "    <tr style=\"text-align: right;\">\n",
       "      <th></th>\n",
       "      <th>predictions</th>\n",
       "    </tr>\n",
       "  </thead>\n",
       "  <tbody>\n",
       "    <tr>\n",
       "      <th>0</th>\n",
       "      <td>0</td>\n",
       "    </tr>\n",
       "    <tr>\n",
       "      <th>1</th>\n",
       "      <td>1</td>\n",
       "    </tr>\n",
       "    <tr>\n",
       "      <th>2</th>\n",
       "      <td>0</td>\n",
       "    </tr>\n",
       "    <tr>\n",
       "      <th>3</th>\n",
       "      <td>1</td>\n",
       "    </tr>\n",
       "    <tr>\n",
       "      <th>4</th>\n",
       "      <td>1</td>\n",
       "    </tr>\n",
       "    <tr>\n",
       "      <th>...</th>\n",
       "      <td>...</td>\n",
       "    </tr>\n",
       "    <tr>\n",
       "      <th>3652</th>\n",
       "      <td>0</td>\n",
       "    </tr>\n",
       "    <tr>\n",
       "      <th>3653</th>\n",
       "      <td>0</td>\n",
       "    </tr>\n",
       "    <tr>\n",
       "      <th>3654</th>\n",
       "      <td>1</td>\n",
       "    </tr>\n",
       "    <tr>\n",
       "      <th>3655</th>\n",
       "      <td>1</td>\n",
       "    </tr>\n",
       "    <tr>\n",
       "      <th>3656</th>\n",
       "      <td>1</td>\n",
       "    </tr>\n",
       "  </tbody>\n",
       "</table>\n",
       "<p>3657 rows × 1 columns</p>\n",
       "</div>"
      ],
      "text/plain": [
       "      predictions\n",
       "0               0\n",
       "1               1\n",
       "2               0\n",
       "3               1\n",
       "4               1\n",
       "...           ...\n",
       "3652            0\n",
       "3653            0\n",
       "3654            1\n",
       "3655            1\n",
       "3656            1\n",
       "\n",
       "[3657 rows x 1 columns]"
      ]
     },
     "execution_count": 81,
     "metadata": {},
     "output_type": "execute_result"
    }
   ],
   "source": [
    "df_test = {'predictions':all_predictions}\n",
    "df_test = pd.DataFrame(df_test)\n",
    "df_test"
   ]
  },
  {
   "cell_type": "code",
   "execution_count": 82,
   "metadata": {},
   "outputs": [],
   "source": [
    "# Storing the predictions to a csv file\n",
    "df_test.to_csv('Fake_News_Test_Predictions.csv')"
   ]
  },
  {
   "cell_type": "code",
   "execution_count": 83,
   "metadata": {},
   "outputs": [
    {
     "name": "stdout",
     "output_type": "stream",
     "text": [
      "The News is Not Fake\n"
     ]
    }
   ],
   "source": [
    "# Testing the News is Fake/Not Fake\n",
    "prediction1 = pac.predict(x_test[1])\n",
    "\n",
    "if(prediction1[0]==0):\n",
    "    print('The News is Fake')\n",
    "else:\n",
    "    print('The News is Not Fake')"
   ]
  },
  {
   "cell_type": "code",
   "execution_count": 84,
   "metadata": {},
   "outputs": [
    {
     "name": "stdout",
     "output_type": "stream",
     "text": [
      "The News is Fake\n"
     ]
    }
   ],
   "source": [
    "# Testing the News is Fake/Not Fake\n",
    "prediction2 = pac.predict(x_test[2])\n",
    "\n",
    "if(prediction2[0]==0):\n",
    "    print('The News is Fake')\n",
    "else:\n",
    "    print('The News is Not Fake')"
   ]
  },
  {
   "cell_type": "markdown",
   "metadata": {},
   "source": [
    "### Saving the best model in a pickle file"
   ]
  },
  {
   "cell_type": "code",
   "execution_count": 85,
   "metadata": {},
   "outputs": [
    {
     "data": {
      "text/plain": [
       "['Fake_News_Detection_Project.pkl']"
      ]
     },
     "execution_count": 85,
     "metadata": {},
     "output_type": "execute_result"
    }
   ],
   "source": [
    "#importing joblib\n",
    "import joblib\n",
    "#saving the model in a pickle file\n",
    "joblib.dump(pac,'Fake_News_Detection_Project.pkl')"
   ]
  }
 ],
 "metadata": {
  "kernelspec": {
   "display_name": "Python 3",
   "language": "python",
   "name": "python3"
  },
  "language_info": {
   "codemirror_mode": {
    "name": "ipython",
    "version": 3
   },
   "file_extension": ".py",
   "mimetype": "text/x-python",
   "name": "python",
   "nbconvert_exporter": "python",
   "pygments_lexer": "ipython3",
   "version": "3.8.5"
  }
 },
 "nbformat": 4,
 "nbformat_minor": 4
}
